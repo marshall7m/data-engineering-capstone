{
 "cells": [
  {
   "cell_type": "code",
   "execution_count": 3,
   "metadata": {},
   "outputs": [],
   "source": [
    "import pandas as pd\n",
    "import numpy as np"
   ]
  },
  {
   "cell_type": "code",
   "execution_count": 25,
   "metadata": {},
   "outputs": [],
   "source": [
    "video_dict = ['video_id', 'video_name', 'section_name', 'degree_name']\n",
    "video_ids = np.arange(1,10)\n",
    "video_name = [\n",
    "    'Program Introduciton', \n",
    "    'Overfitting',\n",
    "    'Euclidean distance',\n",
    "    'Program Introduction',\n",
    "    'Data Cleaning',\n",
    "    'Histograms',\n",
    "    'Program Introduction',\n",
    "    'SparkSQL',\n",
    "    'DAGS',\n",
    "]\n",
    "section_name = [\n",
    "    'Introduction to Data Science',\n",
    "    'Supervised Learning with Linear Regression', \n",
    "    'Unsupervised Learning with K-Means',\n",
    "    'Introduction to Data Analysis',\n",
    "    'Data Wrangling with Pandas',\n",
    "    'Visualizations with Matplotlib',\n",
    "    'Introduction to Data Engineering',\n",
    "    'Data Lakes with Spark',\n",
    "    'Data Pipelines with Airflow'\n",
    "]\n",
    "degrees = ['Data Science','Data Analytics','Data Engineering']\n",
    "numbers = [3, 3, 3]\n",
    "degree_name = [x for x, number in zip(degrees, numbers) for _ in range(number)]\n",
    "video_df = pd.DataFrame(columns=video_dict)\n",
    "video_df['video_id'] = video_ids\n",
    "video_df['video_name'] = video_name\n",
    "video_df['section_name'] = section_name\n",
    "video_df['degree_name'] = degree_name\n",
    "video_df.to_json('video_log_dim.json')"
   ]
  },
  {
   "cell_type": "code",
   "execution_count": 26,
   "metadata": {},
   "outputs": [
    {
     "output_type": "execute_result",
     "data": {
      "text/plain": "   video_id            video_name                                section_name  \\\n0         1  Program Introduciton                Introduction to Data Science   \n1         2           Overfitting  Supervised Learning with Linear Regression   \n2         3    Euclidean distance          Unsupervised Learning with K-Means   \n3         4  Program Introduction               Introduction to Data Analysis   \n4         5         Data Cleaning                  Data Wrangling with Pandas   \n5         6            Histograms              Visualizations with Matplotlib   \n6         7  Program Introduction            Introduction to Data Engineering   \n7         8              SparkSQL                       Data Lakes with Spark   \n8         9                  DAGS                 Data Pipelines with Airflow   \n\n        degree_name  \n0      Data Science  \n1      Data Science  \n2      Data Science  \n3    Data Analytics  \n4    Data Analytics  \n5    Data Analytics  \n6  Data Engineering  \n7  Data Engineering  \n8  Data Engineering  ",
      "text/html": "<div>\n<style scoped>\n    .dataframe tbody tr th:only-of-type {\n        vertical-align: middle;\n    }\n\n    .dataframe tbody tr th {\n        vertical-align: top;\n    }\n\n    .dataframe thead th {\n        text-align: right;\n    }\n</style>\n<table border=\"1\" class=\"dataframe\">\n  <thead>\n    <tr style=\"text-align: right;\">\n      <th></th>\n      <th>video_id</th>\n      <th>video_name</th>\n      <th>section_name</th>\n      <th>degree_name</th>\n    </tr>\n  </thead>\n  <tbody>\n    <tr>\n      <th>0</th>\n      <td>1</td>\n      <td>Program Introduciton</td>\n      <td>Introduction to Data Science</td>\n      <td>Data Science</td>\n    </tr>\n    <tr>\n      <th>1</th>\n      <td>2</td>\n      <td>Overfitting</td>\n      <td>Supervised Learning with Linear Regression</td>\n      <td>Data Science</td>\n    </tr>\n    <tr>\n      <th>2</th>\n      <td>3</td>\n      <td>Euclidean distance</td>\n      <td>Unsupervised Learning with K-Means</td>\n      <td>Data Science</td>\n    </tr>\n    <tr>\n      <th>3</th>\n      <td>4</td>\n      <td>Program Introduction</td>\n      <td>Introduction to Data Analysis</td>\n      <td>Data Analytics</td>\n    </tr>\n    <tr>\n      <th>4</th>\n      <td>5</td>\n      <td>Data Cleaning</td>\n      <td>Data Wrangling with Pandas</td>\n      <td>Data Analytics</td>\n    </tr>\n    <tr>\n      <th>5</th>\n      <td>6</td>\n      <td>Histograms</td>\n      <td>Visualizations with Matplotlib</td>\n      <td>Data Analytics</td>\n    </tr>\n    <tr>\n      <th>6</th>\n      <td>7</td>\n      <td>Program Introduction</td>\n      <td>Introduction to Data Engineering</td>\n      <td>Data Engineering</td>\n    </tr>\n    <tr>\n      <th>7</th>\n      <td>8</td>\n      <td>SparkSQL</td>\n      <td>Data Lakes with Spark</td>\n      <td>Data Engineering</td>\n    </tr>\n    <tr>\n      <th>8</th>\n      <td>9</td>\n      <td>DAGS</td>\n      <td>Data Pipelines with Airflow</td>\n      <td>Data Engineering</td>\n    </tr>\n  </tbody>\n</table>\n</div>"
     },
     "metadata": {},
     "execution_count": 26
    }
   ],
   "source": [
    "video_df"
   ]
  },
  {
   "cell_type": "code",
   "execution_count": 27,
   "metadata": {},
   "outputs": [],
   "source": [
    "project_name = ['Write a Data Science Blog Post', \n",
    "                'Predicting Boston Housing Prices', \n",
    "                'Netflix Dataset Clustering',\n",
    "                'Analyze Experiment Results',\n",
    "                'Wrangle and Analyze Data',\n",
    "                'Communicate Data Findings',\n",
    "                'Build a Cloud Data Warehouse',\n",
    "                'Build a Data Lake',\n",
    "                'Data Pipelines with Airflow']\n",
    "\n",
    "project_dict = ['project_id', 'section_id', 'project_name', 'section_name', 'degree_name']\n",
    "project_df = pd.DataFrame(columns=project_dict)\n",
    "project_df['project_id'] = np.arange(1,10)\n",
    "project_df['section_id'] = np.arange(1,10)\n",
    "project_df['project_name'] = project_name\n",
    "project_df['section_name'] = section_name\n",
    "project_df['degree_name'] = degree_name\n",
    "project_df.to_json('project_dim.json')"
   ]
  },
  {
   "cell_type": "code",
   "execution_count": 30,
   "metadata": {},
   "outputs": [
    {
     "output_type": "execute_result",
     "data": {
      "text/plain": "   project_id  section_id                      project_name  \\\n0           1           1    Write a Data Science Blog Post   \n1           2           2  Predicting Boston Housing Prices   \n2           3           3        Netflix Dataset Clustering   \n3           4           4        Analyze Experiment Results   \n4           5           5          Wrangle and Analyze Data   \n5           6           6         Communicate Data Findings   \n6           7           7      Build a Cloud Data Warehouse   \n7           8           8                 Build a Data Lake   \n8           9           9       Data Pipelines with Airflow   \n\n                                 section_name       degree_name  \n0                Introduction to Data Science      Data Science  \n1  Supervised Learning with Linear Regression      Data Science  \n2          Unsupervised Learning with K-Means      Data Science  \n3               Introduction to Data Analysis    Data Analytics  \n4                  Data Wrangling with Pandas    Data Analytics  \n5              Visualizations with Matplotlib    Data Analytics  \n6            Introduction to Data Engineering  Data Engineering  \n7                       Data Lakes with Spark  Data Engineering  \n8                 Data Pipelines with Airflow  Data Engineering  ",
      "text/html": "<div>\n<style scoped>\n    .dataframe tbody tr th:only-of-type {\n        vertical-align: middle;\n    }\n\n    .dataframe tbody tr th {\n        vertical-align: top;\n    }\n\n    .dataframe thead th {\n        text-align: right;\n    }\n</style>\n<table border=\"1\" class=\"dataframe\">\n  <thead>\n    <tr style=\"text-align: right;\">\n      <th></th>\n      <th>project_id</th>\n      <th>section_id</th>\n      <th>project_name</th>\n      <th>section_name</th>\n      <th>degree_name</th>\n    </tr>\n  </thead>\n  <tbody>\n    <tr>\n      <th>0</th>\n      <td>1</td>\n      <td>1</td>\n      <td>Write a Data Science Blog Post</td>\n      <td>Introduction to Data Science</td>\n      <td>Data Science</td>\n    </tr>\n    <tr>\n      <th>1</th>\n      <td>2</td>\n      <td>2</td>\n      <td>Predicting Boston Housing Prices</td>\n      <td>Supervised Learning with Linear Regression</td>\n      <td>Data Science</td>\n    </tr>\n    <tr>\n      <th>2</th>\n      <td>3</td>\n      <td>3</td>\n      <td>Netflix Dataset Clustering</td>\n      <td>Unsupervised Learning with K-Means</td>\n      <td>Data Science</td>\n    </tr>\n    <tr>\n      <th>3</th>\n      <td>4</td>\n      <td>4</td>\n      <td>Analyze Experiment Results</td>\n      <td>Introduction to Data Analysis</td>\n      <td>Data Analytics</td>\n    </tr>\n    <tr>\n      <th>4</th>\n      <td>5</td>\n      <td>5</td>\n      <td>Wrangle and Analyze Data</td>\n      <td>Data Wrangling with Pandas</td>\n      <td>Data Analytics</td>\n    </tr>\n    <tr>\n      <th>5</th>\n      <td>6</td>\n      <td>6</td>\n      <td>Communicate Data Findings</td>\n      <td>Visualizations with Matplotlib</td>\n      <td>Data Analytics</td>\n    </tr>\n    <tr>\n      <th>6</th>\n      <td>7</td>\n      <td>7</td>\n      <td>Build a Cloud Data Warehouse</td>\n      <td>Introduction to Data Engineering</td>\n      <td>Data Engineering</td>\n    </tr>\n    <tr>\n      <th>7</th>\n      <td>8</td>\n      <td>8</td>\n      <td>Build a Data Lake</td>\n      <td>Data Lakes with Spark</td>\n      <td>Data Engineering</td>\n    </tr>\n    <tr>\n      <th>8</th>\n      <td>9</td>\n      <td>9</td>\n      <td>Data Pipelines with Airflow</td>\n      <td>Data Pipelines with Airflow</td>\n      <td>Data Engineering</td>\n    </tr>\n  </tbody>\n</table>\n</div>"
     },
     "metadata": {},
     "execution_count": 30
    }
   ],
   "source": [
    "project_df.head()"
   ]
  }
 ],
 "metadata": {
  "language_info": {
   "name": "python",
   "codemirror_mode": {
    "name": "ipython",
    "version": 3
   },
   "version": "3.7.7-final"
  },
  "orig_nbformat": 2,
  "file_extension": ".py",
  "mimetype": "text/x-python",
  "name": "python",
  "npconvert_exporter": "python",
  "pygments_lexer": "ipython3",
  "version": 3,
  "kernelspec": {
   "name": "python3",
   "display_name": "Python 3"
  }
 },
 "nbformat": 4,
 "nbformat_minor": 2
}