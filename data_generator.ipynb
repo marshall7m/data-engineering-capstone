{
 "cells": [
  {
   "cell_type": "markdown",
   "metadata": {},
   "source": [
    "# Random Dataset Generator"
   ]
  },
  {
   "cell_type": "markdown",
   "metadata": {},
   "source": [
    "Usually the data will be provided or atleast accesible for the data engineer. For this project, I wanted to focus on creating data pipelines for online education analytics. Being that I'm enrolled in an online education program, I was hoping to access Udacity data for this project. Although after asking the udacity support team, the politely declined my request. As for plan b, I decided to create my own synthetic numerical data and use public accesible text data.  Given that this project revolves around the data pipeline process, data integrity isn't as important. "
   ]
  },
  {
   "cell_type": "markdown",
   "metadata": {},
   "source": []
  },
  {
   "cell_type": "code",
   "execution_count": 1,
   "metadata": {},
   "outputs": [],
   "source": [
    "import numpy as np\n",
    "import pandas as pd\n",
    "import scipy.stats as ss\n",
    "import numpy as np\n",
    "import matplotlib.pyplot as plt\n",
    "import itertools\n",
    "from faker import Faker\n",
    "import datetime\n",
    "import os\n",
    "import glob\n",
    "import datetime as dt"
   ]
  },
  {
   "cell_type": "code",
   "execution_count": 114,
   "metadata": {},
   "outputs": [],
   "source": [
    "def generate_skewed_list(mean, std, n_quantiles, pop, min_val=0, max_val=None):\n",
    "    quantiles_list = np.arange(min_val, n_quantiles)\n",
    "    prob = ss.norm.pdf(quantiles_list, loc=mean, scale=std)\n",
    "    prob = prob / prob.sum()\n",
    "    nums = np.random.choice(quantiles_list, size=pop, p=prob)\n",
    "    if max_val != None:\n",
    "        nums = np.where(nums < max_count, nums, max_count)\n",
    "    else:\n",
    "        pass\n",
    "    plt.hist(nums)\n",
    "    plt.show()\n",
    "    return nums"
   ]
  },
  {
   "cell_type": "code",
   "execution_count": 3,
   "metadata": {},
   "outputs": [],
   "source": [
    "users = 50000\n",
    "videos = 3\n",
    "sections = 3\n",
    "projects = 3\n",
    "nanodegrees = 3\n",
    "start_date = dt.date(year=2019, month=1, day=1)\n",
    "end_date = dt.date(year=2019, month=12, day=31)"
   ]
  },
  {
   "cell_type": "markdown",
   "metadata": {},
   "source": [
    "# Video Log"
   ]
  },
  {
   "cell_type": "markdown",
   "metadata": {},
   "source": [
    "Dataset:\n",
    "- user_id\n",
    "- video_id (27 unique video IDs)\n",
    "- views\n"
   ]
  },
  {
   "cell_type": "markdown",
   "metadata": {},
   "source": [
    "Data science 2/5\n",
    "\n",
    "Data analyst 1/2\n",
    "\n",
    "Data Engineer 1/10"
   ]
  },
  {
   "cell_type": "markdown",
   "metadata": {},
   "source": [
    "## Create Video, Section and Nano Degree IDs"
   ]
  },
  {
   "cell_type": "code",
   "execution_count": 5,
   "metadata": {},
   "outputs": [],
   "source": [
    "def generate_ids(id_count, start_id, end_id, degree_id, sections):\n",
    "    video_array = []\n",
    "    degree_array = []\n",
    "    user_id = 0\n",
    "    while user_id != id_count:\n",
    "        video_array.extend(np.arange(start_id, end_id))\n",
    "        degree_array.extend([degree_id] * sections)\n",
    "        user_id += 1\n",
    "    return video_array, degree_array"
   ]
  },
  {
   "cell_type": "code",
   "execution_count": 6,
   "metadata": {},
   "outputs": [],
   "source": [
    "ds_ids, ds_degree_ids = generate_ids(20000, 1, 4, 1, 3)\n",
    "da_ids, da_degree_ids = generate_ids(25000, 3, 6, 2, 3)\n",
    "de_ids, de_degree_ids = generate_ids(5000, 5, 8, 3, 3)\n",
    "\n",
    "video_array = ds_ids + da_ids + de_ids\n",
    "nano_degree_array = ds_degree_ids + da_degree_ids + de_degree_ids"
   ]
  },
  {
   "cell_type": "markdown",
   "metadata": {},
   "source": [
    "## Create User IDs"
   ]
  },
  {
   "cell_type": "code",
   "execution_count": 7,
   "metadata": {},
   "outputs": [],
   "source": [
    "user_id = 0\n",
    "video_user_array = []\n",
    "while user_id != users:\n",
    "    user_id += 1\n",
    "    video_user_array.extend([user_id]*3)\n"
   ]
  },
  {
   "cell_type": "markdown",
   "metadata": {},
   "source": [
    "## Create Video Views "
   ]
  },
  {
   "cell_type": "code",
   "execution_count": 8,
   "metadata": {
    "scrolled": true
   },
   "outputs": [
    {
     "data": {
      "image/png": "[encoded data removed]",
      "text/plain": [
       "<Figure size 432x288 with 1 Axes>"
      ]
     },
     "metadata": {
      "needs_background": "light"
     },
     "output_type": "display_data"
    }
   ],
   "source": [
    "views_per_user = generate_skewed_list(mean=1, std=1, n_quantiles=100, pop=150000, min_val=1)"
   ]
  },
  {
   "cell_type": "markdown",
   "metadata": {},
   "source": [
    "## Compile Video Log Dataframe"
   ]
  },
  {
   "cell_type": "code",
   "execution_count": 12,
   "metadata": {
    "scrolled": true
   },
   "outputs": [],
   "source": [
    "one_degree_video_log = pd.DataFrame(columns=['user_id', 'video_id', 'degree_id', 'views_per_user'])\n",
    "one_degree_video_log['video_id'] = video_array\n",
    "one_degree_video_log['user_id'] = video_user_array\n",
    "one_degree_video_log['views_per_user'] = views_per_user\n",
    "one_degree_video_log['degree_id'] = nano_degree_array"
   ]
  },
  {
   "cell_type": "code",
   "execution_count": 13,
   "metadata": {},
   "outputs": [],
   "source": [
    "def generate_ids_multiple_degrees(df, degree_ids, videos):\n",
    "    degree_to_section_dict = {1: np.arange(1,4), 2: np.arange(3,6), 3: np.arange(5,8)}\n",
    "    video_array = []\n",
    "    degree_array = []\n",
    "    user_array = []\n",
    "    for user in degree_ids:\n",
    "        # get degree id from first degree log dataset\n",
    "        current_degree = df[df['user_id'] == user]['degree_id'].unique()[0]\n",
    "        # picks whether user has 1 or 2 extra degrees \n",
    "        num_next_degrees = np.random.choice([1,2], size=1, p=[.7, .3])[0]\n",
    "        # gets extra degrees' id\n",
    "        all_degree_ids = [1,2,3]\n",
    "        all_degree_ids.remove(current_degree)\n",
    "        next_degrees = np.random.choice(all_degree_ids, size=num_next_degrees)\n",
    "        # adds video ids for each extra degree to nested list\n",
    "        next_videos = [degree_to_section_dict[degree].tolist() for degree in next_degrees]\n",
    "        # flattens nested list\n",
    "        video_array.extend(list(itertools.chain.from_iterable(next_videos)))\n",
    "        # adds x duplicates of the user id to array (depends on number of extra degrees)\n",
    "        user_array.extend([user] * videos * num_next_degrees)\n",
    "        # adds x duplicates of degree ids to array (depends on number of extra degrees)\n",
    "        degree_list = [[degree] * videos for degree in next_degrees]\n",
    "        # flatten nested list\n",
    "        degree_array.extend(list(itertools.chain.from_iterable(degree_list)))\n",
    "    return video_array, degree_array, user_array"
   ]
  },
  {
   "cell_type": "code",
   "execution_count": 14,
   "metadata": {},
   "outputs": [],
   "source": [
    "multiple_degrees = np.random.choice(np.arange(1,users), size=int(users/5))\n",
    "video_array_2, degree_array_2, user_array_2 = generate_ids_multiple_degrees(one_degree_video_log, multiple_degrees, videos)\n"
   ]
  },
  {
   "cell_type": "code",
   "execution_count": 15,
   "metadata": {},
   "outputs": [
    {
     "data": {
      "image/png": "[encoded data removed]",
      "text/plain": [
       "<Figure size 432x288 with 1 Axes>"
      ]
     },
     "metadata": {
      "needs_background": "light"
     },
     "output_type": "display_data"
    }
   ],
   "source": [
    "multiple_degrees_video_log = pd.DataFrame(columns=['user_id', 'video_id', 'degree_id', 'views_per_user'])\n",
    "multiple_degrees_video_log['video_id'] = video_array_2\n",
    "multiple_degrees_video_log['degree_id'] = degree_array_2\n",
    "multiple_degrees_video_log['user_id'] = user_array_2\n",
    "multiple_degrees_count = len(multiple_degrees_video_log)\n",
    "multiple_degrees_video_log['views_per_user'] = generate_skewed_list(mean=1, std=1, n_quantiles=100, pop=multiple_degrees_count, min_val=1)\n"
   ]
  },
  {
   "cell_type": "code",
   "execution_count": 16,
   "metadata": {},
   "outputs": [
    {
     "data": {
      "text/html": [
       "<div>\n",
       "<style scoped>\n",
       "    .dataframe tbody tr th:only-of-type {\n",
       "        vertical-align: middle;\n",
       "    }\n",
       "\n",
       "    .dataframe tbody tr th {\n",
       "        vertical-align: top;\n",
       "    }\n",
       "\n",
       "    .dataframe thead th {\n",
       "        text-align: right;\n",
       "    }\n",
       "</style>\n",
       "<table border=\"1\" class=\"dataframe\">\n",
       "  <thead>\n",
       "    <tr style=\"text-align: right;\">\n",
       "      <th></th>\n",
       "      <th>user_id</th>\n",
       "      <th>video_id</th>\n",
       "      <th>degree_id</th>\n",
       "      <th>views_per_user</th>\n",
       "    </tr>\n",
       "  </thead>\n",
       "  <tbody>\n",
       "    <tr>\n",
       "      <th>0</th>\n",
       "      <td>1</td>\n",
       "      <td>1</td>\n",
       "      <td>1</td>\n",
       "      <td>1</td>\n",
       "    </tr>\n",
       "    <tr>\n",
       "      <th>1</th>\n",
       "      <td>1</td>\n",
       "      <td>2</td>\n",
       "      <td>1</td>\n",
       "      <td>3</td>\n",
       "    </tr>\n",
       "    <tr>\n",
       "      <th>2</th>\n",
       "      <td>1</td>\n",
       "      <td>3</td>\n",
       "      <td>1</td>\n",
       "      <td>1</td>\n",
       "    </tr>\n",
       "    <tr>\n",
       "      <th>3</th>\n",
       "      <td>2</td>\n",
       "      <td>1</td>\n",
       "      <td>1</td>\n",
       "      <td>2</td>\n",
       "    </tr>\n",
       "    <tr>\n",
       "      <th>4</th>\n",
       "      <td>2</td>\n",
       "      <td>2</td>\n",
       "      <td>1</td>\n",
       "      <td>2</td>\n",
       "    </tr>\n",
       "  </tbody>\n",
       "</table>\n",
       "</div>"
      ],
      "text/plain": [
       "   user_id  video_id  degree_id  views_per_user\n",
       "0        1         1          1               1\n",
       "1        1         2          1               3\n",
       "2        1         3          1               1\n",
       "3        2         1          1               2\n",
       "4        2         2          1               2"
      ]
     },
     "execution_count": 16,
     "metadata": {},
     "output_type": "execute_result"
    }
   ],
   "source": [
    "video_log_df = one_degree_video_log.append(multiple_degrees_video_log, sort=False).reset_index(drop=True)\n",
    "video_log_df.head()"
   ]
  },
  {
   "cell_type": "code",
   "execution_count": 17,
   "metadata": {},
   "outputs": [],
   "source": [
    "def generate_last_view_date(df, end_date):\n",
    "    if df['views_per_user'] == 1:\n",
    "        last_view_date = fake.date_between(start_date=df.first_view_date, end_date=df.first_view_date)\n",
    "    else:\n",
    "        last_view_date = fake.date_between(start_date=df.first_view_date, end_date=end_date)\n",
    "    return last_view_date"
   ]
  },
  {
   "cell_type": "code",
   "execution_count": 18,
   "metadata": {},
   "outputs": [],
   "source": [
    "def generate_fake_dates(start_date, end_date, n_dates):\n",
    "    date_list = []\n",
    "    for i in range(n_dates):\n",
    "        random_date = pd.to_datetime(fake.date_between(start_date=start_date, end_date=end_date))\n",
    "        date_list.append(random_date)\n",
    "    return date_list"
   ]
  },
  {
   "cell_type": "code",
   "execution_count": 19,
   "metadata": {},
   "outputs": [],
   "source": [
    "fake = Faker()\n",
    "\n",
    "video_log_df['first_view_date'] = generate_fake_dates(start_date, end_date, len(video_log_df))\n",
    "video_log_df['last_view_date'] = pd.to_datetime(video_log_df.apply(lambda df: generate_last_view_date(df, end_date), axis=1))\n",
    "                                                "
   ]
  },
  {
   "cell_type": "code",
   "execution_count": 22,
   "metadata": {},
   "outputs": [
    {
     "data": {
      "text/html": [
       "<div>\n",
       "<style scoped>\n",
       "    .dataframe tbody tr th:only-of-type {\n",
       "        vertical-align: middle;\n",
       "    }\n",
       "\n",
       "    .dataframe tbody tr th {\n",
       "        vertical-align: top;\n",
       "    }\n",
       "\n",
       "    .dataframe thead th {\n",
       "        text-align: right;\n",
       "    }\n",
       "</style>\n",
       "<table border=\"1\" class=\"dataframe\">\n",
       "  <thead>\n",
       "    <tr style=\"text-align: right;\">\n",
       "      <th></th>\n",
       "      <th>user_id</th>\n",
       "      <th>video_id</th>\n",
       "      <th>degree_id</th>\n",
       "      <th>views_per_user</th>\n",
       "      <th>first_view_date</th>\n",
       "      <th>last_view_date</th>\n",
       "    </tr>\n",
       "  </thead>\n",
       "  <tbody>\n",
       "    <tr>\n",
       "      <th>0</th>\n",
       "      <td>1</td>\n",
       "      <td>1</td>\n",
       "      <td>1</td>\n",
       "      <td>1</td>\n",
       "      <td>2019-06-05</td>\n",
       "      <td>2019-06-05</td>\n",
       "    </tr>\n",
       "    <tr>\n",
       "      <th>1</th>\n",
       "      <td>1</td>\n",
       "      <td>2</td>\n",
       "      <td>1</td>\n",
       "      <td>3</td>\n",
       "      <td>2019-10-25</td>\n",
       "      <td>2019-12-23</td>\n",
       "    </tr>\n",
       "    <tr>\n",
       "      <th>2</th>\n",
       "      <td>1</td>\n",
       "      <td>3</td>\n",
       "      <td>1</td>\n",
       "      <td>1</td>\n",
       "      <td>2019-11-23</td>\n",
       "      <td>2019-11-23</td>\n",
       "    </tr>\n",
       "    <tr>\n",
       "      <th>3</th>\n",
       "      <td>2</td>\n",
       "      <td>1</td>\n",
       "      <td>1</td>\n",
       "      <td>2</td>\n",
       "      <td>2019-10-13</td>\n",
       "      <td>2019-10-16</td>\n",
       "    </tr>\n",
       "    <tr>\n",
       "      <th>4</th>\n",
       "      <td>2</td>\n",
       "      <td>2</td>\n",
       "      <td>1</td>\n",
       "      <td>2</td>\n",
       "      <td>2019-11-23</td>\n",
       "      <td>2019-11-28</td>\n",
       "    </tr>\n",
       "  </tbody>\n",
       "</table>\n",
       "</div>"
      ],
      "text/plain": [
       "   user_id  video_id  degree_id  views_per_user first_view_date last_view_date\n",
       "0        1         1          1               1      2019-06-05     2019-06-05\n",
       "1        1         2          1               3      2019-10-25     2019-12-23\n",
       "2        1         3          1               1      2019-11-23     2019-11-23\n",
       "3        2         1          1               2      2019-10-13     2019-10-16\n",
       "4        2         2          1               2      2019-11-23     2019-11-28"
      ]
     },
     "execution_count": 22,
     "metadata": {},
     "output_type": "execute_result"
    }
   ],
   "source": [
    "video_log_df.head()"
   ]
  },
  {
   "cell_type": "code",
   "execution_count": 23,
   "metadata": {},
   "outputs": [
    {
     "name": "stdout",
     "output_type": "stream",
     "text": [
      "Exporting Done: data_science\n",
      "Exporting Done: data_analytics\n",
      "Exporting Done: data_engineering\n"
     ]
    }
   ],
   "source": [
    "degree_dict = {'data_science': 1, 'data_analytics': 2, 'data_engineering': 3}\n",
    "\n",
    "final_log_columns = ['user_id', 'video_id', 'degree_id', 'first_view_date', 'last_view_date', 'views_per_user']\n",
    "for degree, degree_id in degree_dict.items():\n",
    "    for month in range(1,13):\n",
    "        log = video_log_df.loc[\n",
    "                                 (video_log_df['last_view_date'].dt.year == end_date.year) &\n",
    "                                 (video_log_df['last_view_date'].dt.month == month) & \n",
    "                                 (video_log_df['degree_id'] == degree_id)\n",
    "                              ][final_log_columns].copy().reset_index(drop=True)\n",
    "        log.to_json(f'data/{degree}/{end_date.year}/{month}/video_log.json')\n",
    "    print(f'Exporting Done: {degree}')\n"
   ]
  },
  {
   "cell_type": "markdown",
   "metadata": {},
   "source": [
    "# Project and Section Feedback"
   ]
  },
  {
   "cell_type": "code",
   "execution_count": 33,
   "metadata": {
    "scrolled": true
   },
   "outputs": [
    {
     "name": "stdout",
     "output_type": "stream",
     "text": [
      "count: 100000\n",
      "count: 200000\n",
      "count: 300000\n",
      "Creating dataframe\n"
     ]
    }
   ],
   "source": [
    "chunks = pd.read_json('raw_data/yelp_academic_dataset_review.json', lines=True, chunksize=10000)\n",
    "\n",
    "def json_to_dataframe(chunks, max_count):\n",
    "    chunk_list = []\n",
    "    count = 0\n",
    "    for chunk in chunks:\n",
    "        count += 10000\n",
    "        if count % 100000 == 0:\n",
    "            print('count: ' + str(count))\n",
    "        chunk = chunk['text']\n",
    "        chunk_list.append(chunk)\n",
    "        \n",
    "        if count >= max_count:\n",
    "            print('Creating dataframe')\n",
    "            df = pd.concat(chunk_list)\n",
    "            return df\n",
    "# max count needs to be double the video log count to split unique text rows between section and project dataframes\n",
    "max_count = len(video_log_df) * 2\n",
    "text_df = json_to_dataframe(chunks, max_count)"
   ]
  },
  {
   "cell_type": "code",
   "execution_count": 34,
   "metadata": {},
   "outputs": [],
   "source": [
    "feedback_df = video_log_df[['user_id', 'video_id', 'degree_id']].copy()\n",
    "feedback_df_count = len(feedback_df)"
   ]
  },
  {
   "cell_type": "code",
   "execution_count": 121,
   "metadata": {
    "scrolled": false
   },
   "outputs": [
    {
     "data": {
      "image/png": "[encoded data removed]",
      "text/plain": [
       "<Figure size 432x288 with 1 Axes>"
      ]
     },
     "metadata": {
      "needs_background": "light"
     },
     "output_type": "display_data"
    },
    {
     "data": {
      "image/png": "[encoded data removed]",
      "text/plain": [
       "<Figure size 432x288 with 1 Axes>"
      ]
     },
     "metadata": {
      "needs_background": "light"
     },
     "output_type": "display_data"
    }
   ],
   "source": [
    "section_df = feedback_df.reset_index(drop=True).join(text_df[:feedback_df_count], lsuffix='_caller', rsuffix='_other')\n",
    "section_df = section_df.rename(columns={'video_id': 'section_id'})\n",
    "section_df['rating'] = generate_skewed_list(mean=2, std=.5, n_quantiles=100, pop=feedback_df_count, min_val=1, max_val=3)\n",
    "section_df['rating'] = section_df['rating'].apply(lambda x: 3 if x > 3 else x)\n",
    "\n",
    "project_df = feedback_df.reset_index(drop=True).join(text_df[feedback_df_count:].reset_index(drop=True), lsuffix='_caller', rsuffix='_other')\n",
    "project_df = project_df.rename(columns={'video_id': 'project_id'})\n",
    "project_df['rating'] = generate_skewed_list(mean=2, std=.5, n_quantiles=100, pop=feedback_df_count, min_val=1, max_val=3)\n",
    "project_df['rating'] = project_df['rating'].apply(lambda x: 3 if x > 3 else x)\n"
   ]
  },
  {
   "cell_type": "code",
   "execution_count": 127,
   "metadata": {},
   "outputs": [],
   "source": [
    "project_df['submit_date'] = generate_fake_dates(start_date, end_date, len(project_df))\n",
    "section_df['submit_date'] = generate_fake_dates(start_date, end_date, len(section_df))"
   ]
  },
  {
   "cell_type": "code",
   "execution_count": 129,
   "metadata": {},
   "outputs": [
    {
     "data": {
      "text/html": [
       "<div>\n",
       "<style scoped>\n",
       "    .dataframe tbody tr th:only-of-type {\n",
       "        vertical-align: middle;\n",
       "    }\n",
       "\n",
       "    .dataframe tbody tr th {\n",
       "        vertical-align: top;\n",
       "    }\n",
       "\n",
       "    .dataframe thead th {\n",
       "        text-align: right;\n",
       "    }\n",
       "</style>\n",
       "<table border=\"1\" class=\"dataframe\">\n",
       "  <thead>\n",
       "    <tr style=\"text-align: right;\">\n",
       "      <th></th>\n",
       "      <th>user_id</th>\n",
       "      <th>project_id</th>\n",
       "      <th>degree_id</th>\n",
       "      <th>text</th>\n",
       "      <th>rating</th>\n",
       "      <th>submit_date</th>\n",
       "    </tr>\n",
       "  </thead>\n",
       "  <tbody>\n",
       "    <tr>\n",
       "      <th>0</th>\n",
       "      <td>1</td>\n",
       "      <td>1</td>\n",
       "      <td>1</td>\n",
       "      <td>Quite happy with this find. Have driven past t...</td>\n",
       "      <td>2</td>\n",
       "      <td>2019-05-23</td>\n",
       "    </tr>\n",
       "    <tr>\n",
       "      <th>1</th>\n",
       "      <td>1</td>\n",
       "      <td>2</td>\n",
       "      <td>1</td>\n",
       "      <td>The food was outstanding, service was excellen...</td>\n",
       "      <td>1</td>\n",
       "      <td>2019-04-04</td>\n",
       "    </tr>\n",
       "    <tr>\n",
       "      <th>2</th>\n",
       "      <td>1</td>\n",
       "      <td>3</td>\n",
       "      <td>1</td>\n",
       "      <td>Great place to hang out and have a cocktail an...</td>\n",
       "      <td>2</td>\n",
       "      <td>2019-05-16</td>\n",
       "    </tr>\n",
       "    <tr>\n",
       "      <th>3</th>\n",
       "      <td>2</td>\n",
       "      <td>1</td>\n",
       "      <td>1</td>\n",
       "      <td>Usually one of our reliable stand by restauran...</td>\n",
       "      <td>2</td>\n",
       "      <td>2019-12-06</td>\n",
       "    </tr>\n",
       "    <tr>\n",
       "      <th>4</th>\n",
       "      <td>2</td>\n",
       "      <td>2</td>\n",
       "      <td>1</td>\n",
       "      <td>DO NOT GET DIRECT TV!!! They lie about so much...</td>\n",
       "      <td>2</td>\n",
       "      <td>2019-04-09</td>\n",
       "    </tr>\n",
       "  </tbody>\n",
       "</table>\n",
       "</div>"
      ],
      "text/plain": [
       "   user_id  project_id  degree_id  \\\n",
       "0        1           1          1   \n",
       "1        1           2          1   \n",
       "2        1           3          1   \n",
       "3        2           1          1   \n",
       "4        2           2          1   \n",
       "\n",
       "                                                text  rating submit_date  \n",
       "0  Quite happy with this find. Have driven past t...       2  2019-05-23  \n",
       "1  The food was outstanding, service was excellen...       1  2019-04-04  \n",
       "2  Great place to hang out and have a cocktail an...       2  2019-05-16  \n",
       "3  Usually one of our reliable stand by restauran...       2  2019-12-06  \n",
       "4  DO NOT GET DIRECT TV!!! They lie about so much...       2  2019-04-09  "
      ]
     },
     "execution_count": 129,
     "metadata": {},
     "output_type": "execute_result"
    }
   ],
   "source": [
    "project_df.head()"
   ]
  },
  {
   "cell_type": "code",
   "execution_count": 132,
   "metadata": {},
   "outputs": [],
   "source": [
    "degree_dict = {'data_science': 1, 'data_analytics': 2, 'data_engineering': 3}\n",
    "\n",
    "def export_project_and_section_feedback(df, parent_dir, export_columns, degree_dict, year_filter):\n",
    "    for degree, degree_id in degree_dict.items():\n",
    "        for month in range(1,13):\n",
    "            partitioned_data = df.loc[\n",
    "                                     (df['submit_date'].dt.year == year_filter) &\n",
    "                                     (df['submit_date'].dt.month == month) & \n",
    "                                     (df['degree_id'] == degree_id)\n",
    "                                  ][export_columns].copy().reset_index(drop=True)\n",
    "\n",
    "            partitioned_data.to_json(f'data/{degree}/{year_filter}/{month}/{parent_dir}.json')\n",
    "        print(f'Exporting Done: {degree}')"
   ]
  },
  {
   "cell_type": "code",
   "execution_count": 133,
   "metadata": {},
   "outputs": [
    {
     "name": "stdout",
     "output_type": "stream",
     "text": [
      "Exporting Done: data_science\n",
      "Exporting Done: data_analytics\n",
      "Exporting Done: data_engineering\n"
     ]
    }
   ],
   "source": [
    "final_project_columns = ['user_id', 'project_id', 'submit_date', 'text', 'rating']\n",
    "export_project_and_section_feedback(project_df, 'project_feedback', final_project_columns, degree_dict, 2019)\n"
   ]
  },
  {
   "cell_type": "code",
   "execution_count": 134,
   "metadata": {},
   "outputs": [
    {
     "name": "stdout",
     "output_type": "stream",
     "text": [
      "Exporting Done: data_science\n",
      "Exporting Done: data_analytics\n",
      "Exporting Done: data_engineering\n"
     ]
    }
   ],
   "source": [
    "final_section_columns = ['user_id', 'section_id', 'submit_date', 'text', 'rating']\n",
    "export_project_and_section_feedback(section_df, 'section_feedback', final_section_columns, degree_dict, 2019)\n"
   ]
  },
  {
   "cell_type": "code",
   "execution_count": null,
   "metadata": {},
   "outputs": [],
   "source": [
    "\n",
    "bucket =  s3.Bucket(\"udacity-de-capstone\")\n",
    "client = boto3.client('s3', aws_access_key_id=KEY,\n",
    "                       aws_secret_access_key=SECRET)\n",
    "\n",
    "for obj in bucket.objects.all():\n",
    "    if obj.key.endswith('.json'):\n",
    "        file_name = re.findall(pattern='[^/]*$', string=obj.key)[0]\n",
    "        file_key = re.findall(pattern='^.+/', string=obj.key)[0]\n",
    "        print()\n",
    "        print(f'old file name: {file_name}')\n",
    "        print(f'file key: {file_key}')\n",
    "        s3.Bucket('udacity-de-capstone').download_file(obj.key, file_name)\n",
    "        if file_name.split('.')[0] == 'mentor_activity':\n",
    "            try:\n",
    "                df = pd.read_json(file_name, lines=True)\n",
    "            except Exception as e:\n",
    "                print(e)\n",
    "        else:\n",
    "            df = pd.read_json(file_name)\n",
    "        new_file_name = file_name.replace('.json', '.csv')\n",
    "        df.to_csv(file_key+new_file_name, header=True, index=False)\n",
    "        # client = boto3.client('s3', aws_access_key_id=KEY,\n",
    "        #                aws_secret_access_key=SECRET)\n",
    "        # response = client.upload_file(new_file_name, 'udacity-de-capstone', file_key)\n",
    "        print(f'new csv: {file_key+new_file_name}')\n",
    "        os.remove(file_name)\n",
    "    else:\n",
    "        pass"
   ]
  }
 ],
 "metadata": {
  "kernelspec": {
   "display_name": "Python 3",
   "language": "python",
   "name": "python3"
  },
  "language_info": {
   "codemirror_mode": {
    "name": "ipython",
    "version": 3
   },
   "file_extension": ".py",
   "mimetype": "text/x-python",
   "name": "python",
   "nbconvert_exporter": "python",
   "pygments_lexer": "ipython3",
   "version": "3.7.7"
  }
 },
 "nbformat": 4,
 "nbformat_minor": 4
}